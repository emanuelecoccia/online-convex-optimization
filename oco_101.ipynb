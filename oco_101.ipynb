{
 "cells": [
  {
   "cell_type": "code",
   "execution_count": 6,
   "metadata": {},
   "outputs": [],
   "source": [
    "from SMPyBandits.Arms import Bernoulli\n",
    "\n",
    "import pandas as pd\n",
    "import numpy as np\n",
    "import matplotlib.pyplot as plt\n",
    "import seaborn as sns"
   ]
  },
  {
   "cell_type": "markdown",
   "metadata": {},
   "source": [
    "## 1.3 A gentle start: learning from expert advice"
   ]
  },
  {
   "cell_type": "code",
   "execution_count": null,
   "metadata": {},
   "outputs": [],
   "source": [
    "# Simulate buy or sell outcomes\n",
    "bernoulli = Bernoulli(0.2)\n",
    "no_experts = 100\n",
    "no_outcomes = 20\n",
    "\n",
    "outcomes = bernoulli.draw_nparray(no_outcomes)\n",
    "expert_predictions = np.zeros([no_experts, no_outcomes])\n",
    "\n",
    "for i in range(no_experts):\n",
    "    expert_predictions[i] = bernoulli.draw_nparray(no_outcomes)\n",
    "\n",
    "# Initialize the weights\n",
    "weights = np.ones(no_experts) / no_experts\n",
    "\n",
    "for i in range(no_outcomes):\n",
    "    # Calculate the weighted average of the expert predictions\n",
    "    weighted_predictions = np.dot(weights, expert_predictions[:, i])\n",
    "\n",
    "    # Calculate the loss\n",
    "    loss = np.mean((outcomes[i] - weighted_predictions)**2)\n",
    "\n",
    "    # Update the weights\n",
    "    weights *= np.exp(-loss)\n",
    "\n",
    "    # Normalize the weights\n",
    "    weights /= np.sum(weights)\n",
    "\n",
    "    print(f'Iteration {i + 1}:')\n",
    "    print(f'Weights: {weights}')\n",
    "    print(f'Weighted predictions: {weighted_predictions}')\n",
    "    print(f'Loss: {loss}')\n",
    "    print('')"
   ]
  }
 ],
 "metadata": {
  "kernelspec": {
   "display_name": "oco",
   "language": "python",
   "name": "python3"
  },
  "language_info": {
   "codemirror_mode": {
    "name": "ipython",
    "version": 3
   },
   "file_extension": ".py",
   "mimetype": "text/x-python",
   "name": "python",
   "nbconvert_exporter": "python",
   "pygments_lexer": "ipython3",
   "version": "3.12.2"
  }
 },
 "nbformat": 4,
 "nbformat_minor": 2
}
